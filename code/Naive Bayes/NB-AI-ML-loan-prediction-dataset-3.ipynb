{
 "cells": [
  {
   "cell_type": "code",
   "execution_count": 1,
   "id": "0725f05d",
   "metadata": {
    "_cell_guid": "b1076dfc-b9ad-4769-8c92-a6c4dae69d19",
    "_uuid": "8f2839f25d086af736a60e9eeb907d3b93b6e0e5",
    "execution": {
     "iopub.execute_input": "2023-12-13T19:33:55.058113Z",
     "iopub.status.busy": "2023-12-13T19:33:55.057466Z",
     "iopub.status.idle": "2023-12-13T19:33:55.499723Z",
     "shell.execute_reply": "2023-12-13T19:33:55.498361Z"
    },
    "papermill": {
     "duration": 0.451199,
     "end_time": "2023-12-13T19:33:55.502348",
     "exception": false,
     "start_time": "2023-12-13T19:33:55.051149",
     "status": "completed"
    },
    "tags": []
   },
   "outputs": [
    {
     "name": "stdout",
     "output_type": "stream",
     "text": [
      "/kaggle/input/loan-prediction/cleaned_data.csv\n"
     ]
    }
   ],
   "source": [
    "# This Python 3 environment comes with many helpful analytics libraries installed\n",
    "# It is defined by the kaggle/python Docker image: https://github.com/kaggle/docker-python\n",
    "# For example, here's several helpful packages to load\n",
    "\n",
    "import numpy as np # linear algebra\n",
    "import pandas as pd # data processing, CSV file I/O (e.g. pd.read_csv)\n",
    "\n",
    "# Input data files are available in the read-only \"../input/\" directory\n",
    "# For example, running this (by clicking run or pressing Shift+Enter) will list all files under the input directory\n",
    "\n",
    "import os\n",
    "for dirname, _, filenames in os.walk('/kaggle/input'):\n",
    "    for filename in filenames:\n",
    "        print(os.path.join(dirname, filename))\n",
    "\n",
    "# You can write up to 20GB to the current directory (/kaggle/working/) that gets preserved as output when you create a version using \"Save & Run All\" \n",
    "# You can also write temporary files to /kaggle/temp/, but they won't be saved outside of the current session"
   ]
  },
  {
   "cell_type": "code",
   "execution_count": 2,
   "id": "ae33d660",
   "metadata": {
    "execution": {
     "iopub.execute_input": "2023-12-13T19:33:55.511759Z",
     "iopub.status.busy": "2023-12-13T19:33:55.511233Z",
     "iopub.status.idle": "2023-12-13T19:33:55.551281Z",
     "shell.execute_reply": "2023-12-13T19:33:55.550186Z"
    },
    "papermill": {
     "duration": 0.047771,
     "end_time": "2023-12-13T19:33:55.554051",
     "exception": false,
     "start_time": "2023-12-13T19:33:55.506280",
     "status": "completed"
    },
    "tags": []
   },
   "outputs": [
    {
     "data": {
      "text/plain": [
       "Index(['Unnamed: 0', 'Gender', 'Married', 'Dependents', 'Education',\n",
       "       'Self_Employed', 'ApplicantIncome', 'CoapplicantIncome', 'LoanAmount',\n",
       "       'Loan_Amount_Term', 'Credit_History', 'Property_Area', 'Loan_Status'],\n",
       "      dtype='object')"
      ]
     },
     "execution_count": 2,
     "metadata": {},
     "output_type": "execute_result"
    }
   ],
   "source": [
    "df=pd.read_csv('/kaggle/input/loan-prediction/cleaned_data.csv')\n",
    "df.drop(['Loan_ID'],axis=1,inplace=True)\n",
    "df.columns"
   ]
  },
  {
   "cell_type": "code",
   "execution_count": 3,
   "id": "ed0fb4cf",
   "metadata": {
    "execution": {
     "iopub.execute_input": "2023-12-13T19:33:55.563601Z",
     "iopub.status.busy": "2023-12-13T19:33:55.563195Z",
     "iopub.status.idle": "2023-12-13T19:33:55.570250Z",
     "shell.execute_reply": "2023-12-13T19:33:55.569037Z"
    },
    "papermill": {
     "duration": 0.015329,
     "end_time": "2023-12-13T19:33:55.573322",
     "exception": false,
     "start_time": "2023-12-13T19:33:55.557993",
     "status": "completed"
    },
    "tags": []
   },
   "outputs": [
    {
     "name": "stdout",
     "output_type": "stream",
     "text": [
      "There are 13 numerical variables\n",
      "\n",
      "The numerical variables are : ['Unnamed: 0', 'Gender', 'Married', 'Dependents', 'Education', 'Self_Employed', 'ApplicantIncome', 'CoapplicantIncome', 'LoanAmount', 'Loan_Amount_Term', 'Credit_History', 'Property_Area', 'Loan_Status']\n"
     ]
    }
   ],
   "source": [
    "# find numerical variables\n",
    "\n",
    "numerical = [var for var in df.columns if df[var].dtype!='O']\n",
    "\n",
    "print('There are {} numerical variables\\n'.format(len(numerical)))\n",
    "\n",
    "print('The numerical variables are :', numerical)"
   ]
  },
  {
   "cell_type": "code",
   "execution_count": 4,
   "id": "4e87ca2b",
   "metadata": {
    "execution": {
     "iopub.execute_input": "2023-12-13T19:33:55.583780Z",
     "iopub.status.busy": "2023-12-13T19:33:55.582583Z",
     "iopub.status.idle": "2023-12-13T19:33:56.831606Z",
     "shell.execute_reply": "2023-12-13T19:33:56.830402Z"
    },
    "papermill": {
     "duration": 1.257252,
     "end_time": "2023-12-13T19:33:56.834535",
     "exception": false,
     "start_time": "2023-12-13T19:33:55.577283",
     "status": "completed"
    },
    "tags": []
   },
   "outputs": [],
   "source": [
    "from sklearn.preprocessing import LabelEncoder\n",
    "label_encoder=LabelEncoder()\n",
    "df[['Gender', 'Married', 'Dependents', 'Education', 'Self_Employed', 'Property_Area']] = df[['Gender', 'Married', 'Dependents', 'Education', 'Self_Employed', 'Property_Area']].apply(LabelEncoder().fit_transform)\n",
    "numerical=df.select_dtypes(include=np.number)\n"
   ]
  },
  {
   "cell_type": "code",
   "execution_count": 5,
   "id": "6251795e",
   "metadata": {
    "execution": {
     "iopub.execute_input": "2023-12-13T19:33:56.845451Z",
     "iopub.status.busy": "2023-12-13T19:33:56.844506Z",
     "iopub.status.idle": "2023-12-13T19:33:56.854310Z",
     "shell.execute_reply": "2023-12-13T19:33:56.853054Z"
    },
    "papermill": {
     "duration": 0.018381,
     "end_time": "2023-12-13T19:33:56.857132",
     "exception": false,
     "start_time": "2023-12-13T19:33:56.838751",
     "status": "completed"
    },
    "tags": []
   },
   "outputs": [
    {
     "data": {
      "text/plain": [
       "0      0\n",
       "1      1\n",
       "2      1\n",
       "3      1\n",
       "4      1\n",
       "      ..\n",
       "475    1\n",
       "476    1\n",
       "477    1\n",
       "478    1\n",
       "479    0\n",
       "Name: Loan_Status, Length: 480, dtype: int64"
      ]
     },
     "execution_count": 5,
     "metadata": {},
     "output_type": "execute_result"
    }
   ],
   "source": [
    "X=numerical\n",
    "Y=df[\"Loan_Status\"]\n",
    "Y"
   ]
  },
  {
   "cell_type": "code",
   "execution_count": 6,
   "id": "04b43b2e",
   "metadata": {
    "execution": {
     "iopub.execute_input": "2023-12-13T19:33:56.868029Z",
     "iopub.status.busy": "2023-12-13T19:33:56.867289Z",
     "iopub.status.idle": "2023-12-13T19:33:56.989894Z",
     "shell.execute_reply": "2023-12-13T19:33:56.988999Z"
    },
    "papermill": {
     "duration": 0.131185,
     "end_time": "2023-12-13T19:33:56.992549",
     "exception": false,
     "start_time": "2023-12-13T19:33:56.861364",
     "status": "completed"
    },
    "tags": []
   },
   "outputs": [],
   "source": [
    "from sklearn.model_selection import train_test_split\n",
    "X_train,X_test,Y_train,Y_test=train_test_split(X,Y,test_size=0.2,random_state=3)"
   ]
  },
  {
   "cell_type": "code",
   "execution_count": 7,
   "id": "5e6f6997",
   "metadata": {
    "execution": {
     "iopub.execute_input": "2023-12-13T19:33:57.002856Z",
     "iopub.status.busy": "2023-12-13T19:33:57.002181Z",
     "iopub.status.idle": "2023-12-13T19:33:57.815434Z",
     "shell.execute_reply": "2023-12-13T19:33:57.814437Z"
    },
    "papermill": {
     "duration": 0.821892,
     "end_time": "2023-12-13T19:33:57.818575",
     "exception": false,
     "start_time": "2023-12-13T19:33:56.996683",
     "status": "completed"
    },
    "tags": []
   },
   "outputs": [
    {
     "name": "stdout",
     "output_type": "stream",
     "text": [
      "accuracy: 0.9895833333333334\n",
      "precision: 0.9895833333333334\n",
      "recall: 0.9895833333333334\n",
      "f1_score: 0.9895833333333334\n",
      "Confusion matrix\n",
      "\n",
      " [[35  0]\n",
      " [ 1 60]]\n",
      "\n",
      "True Positives(TP) =  35\n",
      "\n",
      "True Negatives(TN) =  60\n",
      "\n",
      "False Positives(FP) =  0\n",
      "\n",
      "False Negatives(FN) =  1\n"
     ]
    },
    {
     "data": {
      "text/plain": [
       "<Axes: >"
      ]
     },
     "execution_count": 7,
     "metadata": {},
     "output_type": "execute_result"
    },
    {
     "data": {
      "image/png": "[encoded data removed]",
      "text/plain": [
       "<Figure size 640x480 with 2 Axes>"
      ]
     },
     "metadata": {},
     "output_type": "display_data"
    }
   ],
   "source": [
    "from sklearn.naive_bayes import GaussianNB\n",
    "from sklearn.metrics import precision_score,recall_score,f1_score,accuracy_score\n",
    "# visualize confusion matrix with seaborn heatmap\n",
    "import seaborn as sns \n",
    "# Print the Confusion Matrix and slice it into four pieces\n",
    "from sklearn.metrics import confusion_matrix\n",
    "\n",
    "\n",
    "\n",
    "bc=GaussianNB()\n",
    "bc.fit(X_train,Y_train)\n",
    "pred=bc.predict(X_test)\n",
    "print('accuracy:',accuracy_score(pred,Y_test))\n",
    "print('precision:',precision_score(pred,Y_test,average='micro'))\n",
    "print('recall:',recall_score(pred,Y_test,average='micro'))\n",
    "print('f1_score:',f1_score(pred,Y_test,average='micro'))\n",
    "\n",
    "cm = confusion_matrix(Y_test, pred)\n",
    "\n",
    "print('Confusion matrix\\n\\n', cm)\n",
    "\n",
    "print('\\nTrue Positives(TP) = ', cm[0,0])\n",
    "\n",
    "print('\\nTrue Negatives(TN) = ', cm[1,1])\n",
    "\n",
    "print('\\nFalse Positives(FP) = ', cm[0,1])\n",
    "\n",
    "print('\\nFalse Negatives(FN) = ', cm[1,0])\n",
    "\n",
    "cm_matrix = pd.DataFrame(data=cm, columns=['Actual Positive:1', 'Actual Negative:0'], \n",
    "                                 index=['Predict Positive:1', 'Predict Negative:0'])\n",
    "\n",
    "sns.heatmap(cm_matrix, annot=True, fmt='d', cmap='YlGnBu')"
   ]
  }
 ],
 "metadata": {
  "kaggle": {
   "accelerator": "none",
   "dataSources": [
    {
     "datasetId": 2831587,
     "sourceId": 4890669,
     "sourceType": "datasetVersion"
    }
   ],
   "dockerImageVersionId": 30626,
   "isGpuEnabled": false,
   "isInternetEnabled": false,
   "language": "python",
   "sourceType": "notebook"
  },
  "kernelspec": {
   "display_name": "Python 3",
   "language": "python",
   "name": "python3"
  },
  "language_info": {
   "codemirror_mode": {
    "name": "ipython",
    "version": 3
   },
   "file_extension": ".py",
   "mimetype": "text/x-python",
   "name": "python",
   "nbconvert_exporter": "python",
   "pygments_lexer": "ipython3",
   "version": "3.10.12"
  },
  "papermill": {
   "default_parameters": {},
   "duration": 6.868112,
   "end_time": "2023-12-13T19:33:58.444056",
   "environment_variables": {},
   "exception": null,
   "input_path": "__notebook__.ipynb",
   "output_path": "__notebook__.ipynb",
   "parameters": {},
   "start_time": "2023-12-13T19:33:51.575944",
   "version": "2.4.0"
  }
 },
 "nbformat": 4,
 "nbformat_minor": 5
}
