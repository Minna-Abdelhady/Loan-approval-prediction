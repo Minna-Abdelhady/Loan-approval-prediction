{
 "cells": [
  {
   "cell_type": "code",
   "execution_count": 1,
   "id": "763a99ee",
   "metadata": {
    "_cell_guid": "b1076dfc-b9ad-4769-8c92-a6c4dae69d19",
    "_uuid": "8f2839f25d086af736a60e9eeb907d3b93b6e0e5",
    "execution": {
     "iopub.execute_input": "2023-12-13T19:19:26.343455Z",
     "iopub.status.busy": "2023-12-13T19:19:26.343118Z",
     "iopub.status.idle": "2023-12-13T19:19:26.680243Z",
     "shell.execute_reply": "2023-12-13T19:19:26.678358Z"
    },
    "papermill": {
     "duration": 0.343813,
     "end_time": "2023-12-13T19:19:26.682483",
     "exception": false,
     "start_time": "2023-12-13T19:19:26.338670",
     "status": "completed"
    },
    "tags": []
   },
   "outputs": [
    {
     "name": "stdout",
     "output_type": "stream",
     "text": [
      "/kaggle/input/loandefault/train.csv\n",
      "/kaggle/input/loandefault/test.csv\n"
     ]
    }
   ],
   "source": [
    "# This Python 3 environment comes with many helpful analytics libraries installed\n",
    "# It is defined by the kaggle/python Docker image: https://github.com/kaggle/docker-python\n",
    "# For example, here's several helpful packages to load\n",
    "\n",
    "import numpy as np # linear algebra\n",
    "import pandas as pd # data processing, CSV file I/O (e.g. pd.read_csv)\n",
    "\n",
    "# Input data files are available in the read-only \"../input/\" directory\n",
    "# For example, running this (by clicking run or pressing Shift+Enter) will list all files under the input directory\n",
    "\n",
    "import os\n",
    "for dirname, _, filenames in os.walk('/kaggle/input'):\n",
    "    for filename in filenames:\n",
    "        print(os.path.join(dirname, filename))\n",
    "\n",
    "# You can write up to 20GB to the current directory (/kaggle/working/) that gets preserved as output when you create a version using \"Save & Run All\" \n",
    "# You can also write temporary files to /kaggle/temp/, but they won't be saved outside of the current session"
   ]
  },
  {
   "cell_type": "code",
   "execution_count": 2,
   "id": "27ad6a25",
   "metadata": {
    "execution": {
     "iopub.execute_input": "2023-12-13T19:19:26.689853Z",
     "iopub.status.busy": "2023-12-13T19:19:26.689086Z",
     "iopub.status.idle": "2023-12-13T19:19:27.198249Z",
     "shell.execute_reply": "2023-12-13T19:19:27.197173Z"
    },
    "papermill": {
     "duration": 0.515936,
     "end_time": "2023-12-13T19:19:27.201350",
     "exception": false,
     "start_time": "2023-12-13T19:19:26.685414",
     "status": "completed"
    },
    "tags": []
   },
   "outputs": [
    {
     "data": {
      "text/plain": [
       "Index(['Loan Amount', 'Funded Amount', 'Funded Amount Investor', 'Term',\n",
       "       'Batch Enrolled', 'Interest Rate', 'Grade', 'Sub Grade',\n",
       "       'Employment Duration', 'Home Ownership', 'Verification Status',\n",
       "       'Payment Plan', 'Loan Title', 'Debit to Income',\n",
       "       'Delinquency - two years', 'Inquires - six months', 'Open Account',\n",
       "       'Public Record', 'Revolving Balance', 'Revolving Utilities',\n",
       "       'Total Accounts', 'Initial List Status', 'Total Received Interest',\n",
       "       'Total Received Late Fee', 'Recoveries', 'Collection Recovery Fee',\n",
       "       'Collection 12 months Medical', 'Application Type', 'Last week Pay',\n",
       "       'Accounts Delinquent', 'Total Collection Amount',\n",
       "       'Total Current Balance', 'Total Revolving Credit Limit', 'Loan Status'],\n",
       "      dtype='object')"
      ]
     },
     "execution_count": 2,
     "metadata": {},
     "output_type": "execute_result"
    }
   ],
   "source": [
    "df=pd.read_csv('/kaggle/input/loandefault/train.csv')\n",
    "df.drop(['ID'],axis=1,inplace=True)\n",
    "df.columns"
   ]
  },
  {
   "cell_type": "code",
   "execution_count": 3,
   "id": "ec53c1a6",
   "metadata": {
    "execution": {
     "iopub.execute_input": "2023-12-13T19:19:27.209431Z",
     "iopub.status.busy": "2023-12-13T19:19:27.209031Z",
     "iopub.status.idle": "2023-12-13T19:19:27.217471Z",
     "shell.execute_reply": "2023-12-13T19:19:27.215873Z"
    },
    "papermill": {
     "duration": 0.016266,
     "end_time": "2023-12-13T19:19:27.220601",
     "exception": false,
     "start_time": "2023-12-13T19:19:27.204335",
     "status": "completed"
    },
    "tags": []
   },
   "outputs": [
    {
     "name": "stdout",
     "output_type": "stream",
     "text": [
      "There are 9 categorical variables\n",
      "\n",
      "The categorical variables are :\n",
      "\n",
      " ['Batch Enrolled', 'Grade', 'Sub Grade', 'Employment Duration', 'Verification Status', 'Payment Plan', 'Loan Title', 'Initial List Status', 'Application Type']\n"
     ]
    }
   ],
   "source": [
    "# find categorical variables\n",
    "\n",
    "categorical = [var for var in df.columns if df[var].dtype=='O']\n",
    "\n",
    "print('There are {} categorical variables\\n'.format(len(categorical)))\n",
    "\n",
    "print('The categorical variables are :\\n\\n', categorical)"
   ]
  },
  {
   "cell_type": "code",
   "execution_count": 4,
   "id": "f7586d37",
   "metadata": {
    "execution": {
     "iopub.execute_input": "2023-12-13T19:19:27.228254Z",
     "iopub.status.busy": "2023-12-13T19:19:27.227789Z",
     "iopub.status.idle": "2023-12-13T19:19:28.718114Z",
     "shell.execute_reply": "2023-12-13T19:19:28.716990Z"
    },
    "papermill": {
     "duration": 1.496954,
     "end_time": "2023-12-13T19:19:28.720638",
     "exception": false,
     "start_time": "2023-12-13T19:19:27.223684",
     "status": "completed"
    },
    "tags": []
   },
   "outputs": [],
   "source": [
    "from sklearn.preprocessing import LabelEncoder\n",
    "label_encoder=LabelEncoder()\n",
    "df[['Batch Enrolled', 'Grade', 'Sub Grade', 'Employment Duration', 'Verification Status', 'Payment Plan', 'Loan Title', 'Initial List Status', 'Application Type']] = df[['Batch Enrolled', 'Grade', 'Sub Grade', 'Employment Duration', 'Verification Status', 'Payment Plan', 'Loan Title', 'Initial List Status', 'Application Type']].apply(LabelEncoder().fit_transform)\n",
    "numerical=df.select_dtypes(include=np.number)\n"
   ]
  },
  {
   "cell_type": "code",
   "execution_count": 5,
   "id": "54b15918",
   "metadata": {
    "execution": {
     "iopub.execute_input": "2023-12-13T19:19:28.728938Z",
     "iopub.status.busy": "2023-12-13T19:19:28.728072Z",
     "iopub.status.idle": "2023-12-13T19:19:28.737891Z",
     "shell.execute_reply": "2023-12-13T19:19:28.736146Z"
    },
    "papermill": {
     "duration": 0.016983,
     "end_time": "2023-12-13T19:19:28.740753",
     "exception": false,
     "start_time": "2023-12-13T19:19:28.723770",
     "status": "completed"
    },
    "tags": []
   },
   "outputs": [
    {
     "data": {
      "text/plain": [
       "0        0\n",
       "1        0\n",
       "2        0\n",
       "3        0\n",
       "4        0\n",
       "        ..\n",
       "67458    1\n",
       "67459    0\n",
       "67460    0\n",
       "67461    0\n",
       "67462    0\n",
       "Name: Loan Status, Length: 67463, dtype: int64"
      ]
     },
     "execution_count": 5,
     "metadata": {},
     "output_type": "execute_result"
    }
   ],
   "source": [
    "X=numerical\n",
    "Y=df[\"Loan Status\"]\n",
    "Y"
   ]
  },
  {
   "cell_type": "code",
   "execution_count": 6,
   "id": "05cc500f",
   "metadata": {
    "execution": {
     "iopub.execute_input": "2023-12-13T19:19:28.749315Z",
     "iopub.status.busy": "2023-12-13T19:19:28.748851Z",
     "iopub.status.idle": "2023-12-13T19:19:28.897787Z",
     "shell.execute_reply": "2023-12-13T19:19:28.896598Z"
    },
    "papermill": {
     "duration": 0.156362,
     "end_time": "2023-12-13T19:19:28.900281",
     "exception": false,
     "start_time": "2023-12-13T19:19:28.743919",
     "status": "completed"
    },
    "tags": []
   },
   "outputs": [],
   "source": [
    "from sklearn.model_selection import train_test_split\n",
    "X_train,X_test,Y_train,Y_test=train_test_split(X,Y,test_size=0.2,random_state=3)"
   ]
  },
  {
   "cell_type": "code",
   "execution_count": null,
   "id": "a1936cbb",
   "metadata": {
    "papermill": {
     "duration": 0.002616,
     "end_time": "2023-12-13T19:19:28.905991",
     "exception": false,
     "start_time": "2023-12-13T19:19:28.903375",
     "status": "completed"
    },
    "tags": []
   },
   "outputs": [],
   "source": []
  },
  {
   "cell_type": "code",
   "execution_count": 7,
   "id": "31a14c8e",
   "metadata": {
    "execution": {
     "iopub.execute_input": "2023-12-13T19:19:28.913449Z",
     "iopub.status.busy": "2023-12-13T19:19:28.913025Z",
     "iopub.status.idle": "2023-12-13T19:19:29.652571Z",
     "shell.execute_reply": "2023-12-13T19:19:29.651181Z"
    },
    "papermill": {
     "duration": 0.746489,
     "end_time": "2023-12-13T19:19:29.655229",
     "exception": false,
     "start_time": "2023-12-13T19:19:28.908740",
     "status": "completed"
    },
    "tags": []
   },
   "outputs": [
    {
     "name": "stdout",
     "output_type": "stream",
     "text": [
      "accuracy: 0.9005410212702883\n",
      "precision: 0.9005410212702883\n",
      "recall: 0.9005410212702883\n",
      "f1_score: 0.9005410212702883\n",
      "Confusion matrix\n",
      "\n",
      " [[12140    95]\n",
      " [ 1247    11]]\n",
      "\n",
      "True Positives(TP) =  12140\n",
      "\n",
      "True Negatives(TN) =  11\n",
      "\n",
      "False Positives(FP) =  95\n",
      "\n",
      "False Negatives(FN) =  1247\n"
     ]
    },
    {
     "data": {
      "text/plain": [
       "<Axes: >"
      ]
     },
     "execution_count": 7,
     "metadata": {},
     "output_type": "execute_result"
    },
    {
     "data": {
      "image/png": "[encoded data removed]",
      "text/plain": [
       "<Figure size 640x480 with 2 Axes>"
      ]
     },
     "metadata": {},
     "output_type": "display_data"
    }
   ],
   "source": [
    "from sklearn.naive_bayes import GaussianNB\n",
    "from sklearn.metrics import precision_score,recall_score,f1_score,accuracy_score\n",
    "# visualize confusion matrix with seaborn heatmap\n",
    "import seaborn as sns \n",
    "# Print the Confusion Matrix and slice it into four pieces\n",
    "from sklearn.metrics import confusion_matrix\n",
    "\n",
    "\n",
    "\n",
    "bc=GaussianNB()\n",
    "bc.fit(X_train,Y_train)\n",
    "pred=bc.predict(X_test)\n",
    "print('accuracy:',accuracy_score(pred,Y_test))\n",
    "print('precision:',precision_score(pred,Y_test,average='micro'))\n",
    "print('recall:',recall_score(pred,Y_test,average='micro'))\n",
    "print('f1_score:',f1_score(pred,Y_test,average='micro'))\n",
    "\n",
    "cm = confusion_matrix(Y_test, pred)\n",
    "\n",
    "print('Confusion matrix\\n\\n', cm)\n",
    "\n",
    "print('\\nTrue Positives(TP) = ', cm[0,0])\n",
    "\n",
    "print('\\nTrue Negatives(TN) = ', cm[1,1])\n",
    "\n",
    "print('\\nFalse Positives(FP) = ', cm[0,1])\n",
    "\n",
    "print('\\nFalse Negatives(FN) = ', cm[1,0])\n",
    "\n",
    "cm_matrix = pd.DataFrame(data=cm, columns=['Actual Positive:1', 'Actual Negative:0'], \n",
    "                                 index=['Predict Positive:1', 'Predict Negative:0'])\n",
    "\n",
    "sns.heatmap(cm_matrix, annot=True, fmt='d', cmap='YlGnBu')"
   ]
  }
 ],
 "metadata": {
  "kaggle": {
   "accelerator": "none",
   "dataSources": [
    {
     "datasetId": 2803729,
     "sourceId": 4838079,
     "sourceType": "datasetVersion"
    }
   ],
   "dockerImageVersionId": 30626,
   "isGpuEnabled": false,
   "isInternetEnabled": false,
   "language": "python",
   "sourceType": "notebook"
  },
  "kernelspec": {
   "display_name": "Python 3",
   "language": "python",
   "name": "python3"
  },
  "language_info": {
   "codemirror_mode": {
    "name": "ipython",
    "version": 3
   },
   "file_extension": ".py",
   "mimetype": "text/x-python",
   "name": "python",
   "nbconvert_exporter": "python",
   "pygments_lexer": "ipython3",
   "version": "3.10.12"
  },
  "papermill": {
   "default_parameters": {},
   "duration": 6.790425,
   "end_time": "2023-12-13T19:19:30.282829",
   "environment_variables": {},
   "exception": null,
   "input_path": "__notebook__.ipynb",
   "output_path": "__notebook__.ipynb",
   "parameters": {},
   "start_time": "2023-12-13T19:19:23.492404",
   "version": "2.4.0"
  }
 },
 "nbformat": 4,
 "nbformat_minor": 5
}
